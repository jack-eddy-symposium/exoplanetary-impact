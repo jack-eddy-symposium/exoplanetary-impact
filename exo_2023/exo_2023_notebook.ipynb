{
 "cells": [
  {
   "cell_type": "markdown",
   "id": "c4c60efd-1346-433c-b6d3-a8091eda01ac",
   "metadata": {},
   "source": [
    "# Can We Detect Aurora on an Exoplanet (in IR/Radio)?"
   ]
  },
  {
   "cell_type": "markdown",
   "id": "7e29d101-8101-40c6-aea3-2520ec58ca0a",
   "metadata": {},
   "source": [
    "## 1. Stellar Wind (awosm)\n",
    "### 1.0 Member: Meng\n",
    "### 1.1 Input: Parameter\n",
    "### 1.2 Output: SEP spectrum"
   ]
  },
  {
   "cell_type": "markdown",
   "id": "c059966d-0ce8-44d6-8d19-a89605af115d",
   "metadata": {},
   "source": [
    "## 2. GM (BATSRUS)\n",
    "### 2.0 Member: ??\n",
    "### 2.1 Input: Parameter (solar wind velocity, density)\n",
    "### 2.2 Output: particle precipitation, ionospheric electrodynamics"
   ]
  },
  {
   "cell_type": "markdown",
   "id": "7cc490cb-895a-4e1d-8548-51dca9350ebf",
   "metadata": {},
   "source": [
    "## 3. Atmosphere (PWOM)\n",
    "### 3.0 Member: Mei-Yun Lin\n",
    "### 3.1 Input: SEP spectrum, solar activity index (F10.7)\n",
    "### 3.2 Output: Ion density, such as H3+"
   ]
  },
  {
   "cell_type": "markdown",
   "id": "b5d7646c-886e-4f1d-a70c-0ac31a66027a",
   "metadata": {},
   "source": [
    "## 4. Aurora - ???\n",
    "### 4.0 Member: ??\n",
    "### 4.1 Input: atmospheric profile, such as ion density\n",
    "### 4.2 Output: Aurora observed by JWST"
   ]
  },
  {
   "cell_type": "code",
   "execution_count": null,
   "id": "55d00a45-be6a-4cd4-9430-232d64adf4a2",
   "metadata": {},
   "outputs": [],
   "source": []
  }
 ],
 "metadata": {
  "kernelspec": {
   "display_name": "Python 3 (ipykernel)",
   "language": "python",
   "name": "python3"
  },
  "language_info": {
   "codemirror_mode": {
    "name": "ipython",
    "version": 3
   },
   "file_extension": ".py",
   "mimetype": "text/x-python",
   "name": "python",
   "nbconvert_exporter": "python",
   "pygments_lexer": "ipython3",
   "version": "3.11.6"
  }
 },
 "nbformat": 4,
 "nbformat_minor": 5
}
