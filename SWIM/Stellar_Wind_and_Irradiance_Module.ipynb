{
 "cells": [
  {
   "cell_type": "markdown",
   "id": "5a21c652",
   "metadata": {},
   "source": [
    "# SWIM: Stellar Wind and Irradiance Module\n",
    "\n",
    "Created on June 6th 2022 @ 3rd Eddy Cross Disciplinary Symposium, Vail, CO, USA.\n",
    "Code based on original idea by Dan Marsh (NCAR, University of Leeds).\n",
    "\n",
    "## Authors and contributers:\n",
    "\n",
    "Gregory Cooke (University of Leeds, pygjc@leeds.ac.uk),\n",
    "Allison Youngblood (NASA Goddard),\n",
    "Caitlin Gough (University of Leeds),\n",
    "James Colliander (University of British Columbia),\n",
    "Fernando Pérez (University of California, Berkeley),\n",
    "Meng Jin (Lockheed Martin Solar & Astrophysics Lab / SETI Institute),\n",
    "and Dan Marsh (NCAR, University of Leeds)\n",
    "\n",
    "## Description:\n",
    "Code to read in files from the MUSCLES database and scale them to be used in various atmospheric models for different planets in those stellar systems.\n",
    "\n",
    "## User Guide:\n",
    "\n",
    "Run each cell until drop down menus appear.\n",
    "Select your desired options from dropdown menus.\n",
    "A file with wavelength and flux will be saved out.\n",
    "This is a .nc (netCDF file) for CAM/WACCM, for example.\n",
    "\n",
    "## To do list (community input required)\n",
    "- Add in stellar wind models\n",
    "- Add in protoplanetary disk models\n",
    "- Add different climate model wavelength grids (only WACCM, ROCKE-3D, UM, and custom grids so far)\n",
    "- These wavelength grids are not known to us (we could not find them)\n",
    "- Add in different ways to save the data (e.g. files such as .csv, .txt etc.) to be compatable with different models"
   ]
  },
  {
   "cell_type": "markdown",
   "id": "0d71d3f1",
   "metadata": {},
   "source": [
    "## Import required modules"
   ]
  },
  {
   "cell_type": "code",
   "execution_count": 1,
   "id": "6de53f17-c687-4592-92da-78c847d4c51a",
   "metadata": {},
   "outputs": [],
   "source": [
    "#imports\n",
    "import matplotlib.pyplot as plt\n",
    "import numpy as np\n",
    "import xarray as xr\n",
    "import pandas as pd\n",
    "from ipywidgets import interactive\n",
    "import matplotlib.gridspec as gridspec\n",
    "import ipywidgets as widgets\n",
    "import json\n",
    "import os\n",
    "from scipy.integrate import trapz\n",
    "from astropy.io import fits"
   ]
  },
  {
   "cell_type": "code",
   "execution_count": 2,
   "id": "3ad61c09-aa83-4159-a01b-8ab1d74bfb4b",
   "metadata": {},
   "outputs": [
    {
     "name": "stdout",
     "output_type": "stream",
     "text": [
      "No module named 'spectres'\n",
      "installing...\n",
      "done\n"
     ]
    }
   ],
   "source": [
    "#import spectres - will install on first use\n",
    "try:\n",
    "    import spectres as sp\n",
    "except ImportError as err:\n",
    "    print(err)\n",
    "    print('installing...')\n",
    "    os.system('pip install spectres')\n",
    "    print('done')\n",
    "    import spectres as sp"
   ]
  },
  {
   "cell_type": "code",
   "execution_count": 3,
   "id": "3c35fe51-7d5f-4133-b01c-2e4ecd0b4b35",
   "metadata": {},
   "outputs": [],
   "source": [
    "# SWIM functions\n",
    "from util import download_data, sub, sup\n",
    "from climate_models import model_spectrum"
   ]
  },
  {
   "cell_type": "markdown",
   "id": "886a4c59",
   "metadata": {},
   "source": [
    "## Program options begin here\n",
    "### Access the MUSCLES database"
   ]
  },
  {
   "cell_type": "code",
   "execution_count": null,
   "id": "cd8c558d",
   "metadata": {},
   "outputs": [],
   "source": [
    "# MUSCLES data type selection\n",
    "\n",
    "# dictionary relating data type to json file\n",
    "# json files contain the web address in the archive of each star\n",
    "Data_Types = {'Constant native resolution': 'json/stellar_names_const_adapt.json',\n",
    "              'Variable native resolution': 'json/stellar_names_const_adapt.json',\n",
    "              'Constant adaptive resolution': 'json/stellar_names_var_adapt.json',\n",
    "              'Variable adaptive resolution': 'json/stellar_names_var_native.json'}\n",
    "\n",
    "# create a drop down menu to select data type from MUSCLES files\n",
    "style = {'description_width': 'initial'}\n",
    "data_type = widgets.Dropdown( options=(Data_Types),\n",
    "                             description='Data type selection',\n",
    "                             style=style,\n",
    "                             disabled=False)\n",
    "\n",
    "display(data_type)"
   ]
  },
  {
   "cell_type": "markdown",
   "id": "bcaefd62",
   "metadata": {},
   "source": [
    "### Select MUSCLES star"
   ]
  },
  {
   "cell_type": "code",
   "execution_count": null,
   "id": "433aaac7",
   "metadata": {},
   "outputs": [],
   "source": [
    "#reads in json file with MUSCLES archive list \n",
    "\n",
    "json_file = data_type.value\n",
    "stellar_names_and_data = json.load(open(json_file))\n",
    "\n",
    "# create a drop down menu to choose star in MUSCLES database\n",
    "MUSCLES_files = widgets.Dropdown(options=(stellar_names_and_data),\n",
    "                                 description='MUSCLES stellar object:',\n",
    "                                 style=style,\n",
    "                                 disabled=False)\n",
    "\n",
    "display(MUSCLES_files)"
   ]
  },
  {
   "cell_type": "markdown",
   "id": "edfffdc3",
   "metadata": {},
   "source": [
    "## Read in MUSCLES data and assign to arrays"
   ]
  },
  {
   "cell_type": "code",
   "execution_count": null,
   "id": "2edd9756",
   "metadata": {},
   "outputs": [],
   "source": [
    "#get star name\n",
    "star_name = [k for k, v in stellar_names_and_data.items() if v == MUSCLES_files.value][0]\n",
    "\n",
    "# downloade the stars fits file\n",
    "fits_file = download_data(MUSCLES_files.value)\n",
    "\n",
    "# read the starts spectrum\n",
    "print(fits_file)\n",
    "spec = fits.getdata(fits_file,1)\n",
    "\n",
    "#convert to mW/m2/nm\n",
    "per_cm2_to_per_m2 = 100**2\n",
    "erg_per_s_to_mW = 1e-4\n",
    "per_Ang_to_per_nm = 10.\n",
    "\n",
    "New_flux = spec['FLUX'] * erg_per_s_to_mW * per_cm2_to_per_m2 * per_Ang_to_per_nm\n",
    "\n",
    "# MUSCLES wavelength converted to nm\n",
    "Wavelength = spec['WAVELENGTH']*0.1\n",
    "\n",
    "# read in or create the output model grid and spectrum\n",
    "Irradiance_at_Earth = 1360000 # mW/m2 "
   ]
  },
  {
   "cell_type": "markdown",
   "id": "c3fa1db1",
   "metadata": {},
   "source": [
    "## Select climate model for output"
   ]
  },
  {
   "cell_type": "code",
   "execution_count": null,
   "id": "ec66b7c0",
   "metadata": {},
   "outputs": [],
   "source": [
    "# Other climate models can be included\n",
    "# Please email Greg Cooke at pygjc@leeds.ac.uk\n",
    "\n",
    "Climate_model_list = ['None selected',\n",
    "                      'WACCM', \n",
    "                      'CAM', \n",
    "                      'ExoCam', \n",
    "                      'UM', \n",
    "                      'LMD-G', \n",
    "                      'ROCKE-3D', \n",
    "                      'CCSM3', \n",
    "                      'Atmos', \n",
    "                      'Custom constant grid', \n",
    "                      'Custom variable grid'\n",
    "                     ]\n",
    "\n",
    "Climate_model_selection = widgets.Dropdown(options=Climate_model_list,\n",
    "                                           description='Select climate model',\n",
    "                                           disabled=False)\n",
    "caption = widgets.Label(value='Please select model')\n",
    "Climate_model_selection = widgets.Dropdown(options=Climate_model_list,\n",
    "                                           description='Select climate model',\n",
    "                                           disabled=False)\n",
    "def dropdown_change(change):\n",
    "    global model\n",
    "    model = Climate_model_selection.value\n",
    "    print('Target model:', model)\n",
    "    \n",
    "Climate_model_selection.observe(dropdown_change, names='value')\n",
    "model = display(caption, Climate_model_selection)"
   ]
  },
  {
   "cell_type": "code",
   "execution_count": null,
   "id": "0fd828c8",
   "metadata": {},
   "outputs": [],
   "source": [
    "if(model == 'Custom constant grid'):\n",
    "    print('Please enter starting wavelength in nm')\n",
    "    a = float(input())\n",
    "    print('Please enter final wavelength in nm')\n",
    "    b = float(input())\n",
    "    print('Please enter wavelength binning in nm')\n",
    "    c = float(input())\n",
    "    model_wavelength = np.arange(a,b+c,c)\n",
    "    \n",
    "elif(model == 'Custom variable grid'):\n",
    "    print('NOTE: the current functionality is to read in a text ')\n",
    "    print('file of wavelength vs flux\\nusing np.genfromtxt(filename).')\n",
    "    print('Please enter the file name of the custom wavelength grid')\n",
    "    #get file name\n",
    "    file_name = input()\n",
    "    #get wavelength multiplier\n",
    "    print('Please enter the multiplier for the wavelength in order to convert to nm')\n",
    "    multiplier = float(input())\n",
    "\n",
    "    Input_file = np.genfromtxt(file_name)\n",
    "    model_wavelength = Input_file[:,0]*multiplier\n",
    "    model_flux = Input_file[:,1]\n",
    "\n",
    "else:\n",
    "    model_flux, model_wavelength, starlabel, flux_units = model_spectrum(model)\n",
    "    \n",
    "# find total stellar irradiance from file\n",
    "# get total stellar irradiance at top of atmosphere\n",
    "\n",
    "TSI_spectra = trapz(New_flux, Wavelength)\n",
    "print('Total stellar irradiance from original file relative to the Sun: '+ str(TSI_spectra/Irradiance_at_Earth))\n",
    "\n",
    "# scale TSI\n",
    "Scaled_flux_to_Earth = New_flux/(TSI_spectra/Irradiance_at_Earth)\n",
    "TSI_spectra = trapz(Scaled_flux_to_Earth, Wavelength)\n",
    "print('Scaled total stellar irradiance relative to the Sun: '+ str(TSI_spectra/Irradiance_at_Earth))"
   ]
  },
  {
   "cell_type": "markdown",
   "id": "b4a4cdc6",
   "metadata": {
    "tags": []
   },
   "source": [
    "## Access the Exoplanet Archive and choose exoplanet"
   ]
  },
  {
   "cell_type": "code",
   "execution_count": null,
   "id": "66b5bd77",
   "metadata": {},
   "outputs": [],
   "source": [
    "# read in only the following rows from the NASA exoplanet archive:\n",
    "# pl_name, hostname, st_lum, pl_orbsmax, st_teff, rowupdate\n",
    "\n",
    "url = 'https://exoplanetarchive.ipac.caltech.edu/TAP/sync'\n",
    "query = '?query=select+pl_name,hostname,st_lum,pl_orbsmax,st_teff,rowupdate+from+ps&format=csv'\n",
    "NASA_Exo_Archive = pd.read_csv(url+query)\n",
    "\n",
    "# set Spectra_name_same_as_host_name = False if looking at exoplanets around a different \n",
    "# star to the ones in the MUSCLES database, i.e., if you want spectra for an M8 star but \n",
    "# the closest spectra availiable is TRAPPIST-1 otherwise in this example you will only be\n",
    "# able to select TRAPPIST-1 planets if Spectra_name_same_as_host_name = True\n",
    "\n",
    "Spectra_name_same_as_host_name = True\n",
    "\n",
    "#Find planets based on host name\n",
    "if (Spectra_name_same_as_host_name):\n",
    "    #choose planet\n",
    "    planets = NASA_Exo_Archive.loc[NASA_Exo_Archive['hostname'] == star_name]['pl_name']\n",
    "    Find_planets = widgets.Dropdown(options=planets.drop_duplicates(),\n",
    "                                    description='Find planets',\n",
    "                                    disabled=False)\n",
    "    display(Find_planets)\n",
    "else:\n",
    "    Find_host = widgets.Dropdown(options=(NASA_Exo_Archive['hostname'].drop_duplicates()),\n",
    "                                 description='Find host',\n",
    "                                 disabled=False)\n",
    "    display(Find_host)\n",
    "    \n",
    "    #choose planet\n",
    "    planets = NASA_Exo_Archive.loc[NASA_Exo_Archive['hostname'] == Find_host.value]['pl_name']\n",
    "    Find_planets = widgets.Dropdown(options=planets,\n",
    "                                    description='Find planets',\n",
    "                                    disabled=False)\n",
    "    display(Find_planets)"
   ]
  },
  {
   "cell_type": "markdown",
   "id": "dee1b385",
   "metadata": {},
   "source": [
    "## Rebin spectra to target model and rescale to exoplanet irradiance"
   ]
  },
  {
   "cell_type": "code",
   "execution_count": null,
   "id": "a8d0331e",
   "metadata": {},
   "outputs": [],
   "source": [
    "# drop nan rows for luminosity and orbital period\n",
    "planet_name = Find_planets.value\n",
    "pl = NASA_Exo_Archive.\\\n",
    "    loc[NASA_Exo_Archive['pl_name'] == planet_name].\\\n",
    "    dropna(subset=['st_lum','pl_orbsmax'])\n",
    "\n",
    "#rebin and perform final rescaling\n",
    "from Rebin_rescale_spectra import rebin_rescale\n",
    "Final_scaled_flux, flux_relative_to_Earth = rebin_rescale(Wavelength = Wavelength,\n",
    "                                                          model_wavelength = model_wavelength, \n",
    "                                                          model = model, \n",
    "                                                          Scaled_flux_to_Earth = Scaled_flux_to_Earth,\n",
    "                                                          starlabel = starlabel, pl = pl,\n",
    "                                                          planet_name = planet_name)"
   ]
  },
  {
   "cell_type": "markdown",
   "id": "46592b00",
   "metadata": {},
   "source": [
    "## Plot scaled stellar spectra"
   ]
  },
  {
   "cell_type": "code",
   "execution_count": null,
   "id": "ac6550a0",
   "metadata": {},
   "outputs": [],
   "source": [
    "label = 'Scaled MUSCLES spectra of\\n'+star_name+ ' at ' +\\\n",
    "         Find_planets.value+'\\n(' +\\\n",
    "         str(round(flux_relative_to_Earth,3)) + ' ' + r'$F_\\oplus$'+')'\n",
    "\n",
    "from Plot_spectrum import plot_spectrum\n",
    "plot_spectrum(wav1 = model_wavelength, flux1 = Final_scaled_flux, wav2 = model_wavelength, flux2 = model_flux, \n",
    "              number = 2, flux_units = flux_units,\n",
    "              label1 = label, label2 = starlabel+' scaled to Earth', xlim = (10,1e5))"
   ]
  },
  {
   "cell_type": "markdown",
   "id": "6f003810",
   "metadata": {},
   "source": [
    "## Save spectrum to file"
   ]
  },
  {
   "cell_type": "code",
   "execution_count": null,
   "id": "0fc1a00f",
   "metadata": {},
   "outputs": [],
   "source": [
    "#now write out the files to the working directory\n",
    "if (model == 'WACCM' or model == 'CAM'):\n",
    "    ds = xr.open_dataset('SolarForcingCMIP6piControl_c160921.nc')\n",
    "    ds.ssi.values[0] = Final_scaled_flux; ds.ssi.values[1] = Final_scaled_flux\n",
    "    NewFile = 'TOA_Flux_at_'+Find_planets.value+'_for_'+Climate_model_selection.value+'.nc'\n",
    "    NewFile = NewFile.replace(\" \", \"_\")\n",
    "    ds.to_netcdf('./output/'+NewFile)\n",
    "    print('File saved')\n",
    "elif (model == 'ROCKE-3D' or model == 'UM'):\n",
    "    # does ROCKE-3D need to be scaled back to W/m2/m and grid on m?\n",
    "    NewFile = 'TOA_Flux_at_'+Find_planets.value+'_for_'+Climate_model_selection.value\n",
    "    NewFile = NewFile.replace(\" \", \"_\")\n",
    "    df = pd.DataFrame(data={'Wavelength [m]': model_wavelength, 'Flux [W/m^3]':  Final_scaled_flux})\n",
    "    df.to_csv('./output/'+NewFile+'.txt', index = False)\n",
    "    print('File saved')\n",
    "elif (model == 'Atmos'):\n",
    "    NewFile = 'TOA_Flux_at_'+Find_planets.value+'_for_'+Climate_model_selection.value\n",
    "    NewFile = NewFile.replace(\" \", \"_\")\n",
    "    df = pd.DataFrame(data={'Wavelength [m]': model_wavelength, 'Flux [W/m^3]':  Final_scaled_flux})\n",
    "    df.to_csv('./output/'+NewFile+'.txt', index = False)\n",
    "    print('File saved')\n",
    "else:\n",
    "    print('File not saved')"
   ]
  },
  {
   "cell_type": "markdown",
   "id": "5c896990",
   "metadata": {},
   "source": [
    "## Clean up directory"
   ]
  },
  {
   "cell_type": "code",
   "execution_count": null,
   "id": "89cc45c5",
   "metadata": {
    "tags": []
   },
   "outputs": [],
   "source": [
    "# clean up\n",
    "# remove MUSCLES files in current directory\n",
    "os.system('rm fits/*muscles*.fits')"
   ]
  },
  {
   "cell_type": "code",
   "execution_count": null,
   "id": "487c8b12",
   "metadata": {},
   "outputs": [],
   "source": []
  }
 ],
 "metadata": {
  "kernelspec": {
   "display_name": "Python [conda env:miniconda3-default]",
   "language": "python",
   "name": "conda-env-miniconda3-default-py"
  },
  "language_info": {
   "codemirror_mode": {
    "name": "ipython",
    "version": 3
   },
   "file_extension": ".py",
   "mimetype": "text/x-python",
   "name": "python",
   "nbconvert_exporter": "python",
   "pygments_lexer": "ipython3",
   "version": "3.9.5"
  }
 },
 "nbformat": 4,
 "nbformat_minor": 5
}
