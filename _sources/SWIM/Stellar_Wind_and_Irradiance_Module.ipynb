{
 "cells": [
  {
   "cell_type": "markdown",
   "id": "5a21c652",
   "metadata": {},
   "source": [
    "# SWIM: Stellar Wind and Irradiance Module\n",
    "\n",
    "Created on June 6th 2022 @ 3rd Eddy Cross Disciplinary Symposium, Vail, CO, USA.\n",
    "Code based on original idea by Dan Marsh (NCAR, University of Leeds).\n",
    "\n",
    "## Authors and contributers:\n",
    "\n",
    "Gregory Cooke (University of Leeds, pygjc@leeds.ac.uk),\n",
    "Allison Youngblood (NASA Goddard),\n",
    "Caitlin Gough (University of Leeds),\n",
    "James Colliander (University of British Columbia),\n",
    "Fernando Pérez (University of California, Berkeley),\n",
    "Meng Jin (Lockheed Martin Solar & Astrophysics Lab / SETI Institute),\n",
    "and Dan Marsh (NCAR, University of Leeds)\n",
    "\n",
    "## Description:\n",
    "Code to read in files from the MUSCLES database and scale them to be used in various atmospheric models for different planets in those stellar systems.\n",
    "\n",
    "## User Guide:\n",
    "\n",
    "Run each cell until drop down menus appear.\n",
    "Select your desired options from dropdown menus.\n",
    "A file with wavelength and flux will be saved out.\n",
    "This is a .nc (netCDF file) for CAM/WACCM, for example.\n",
    "\n",
    "## To do list (community input required)\n",
    "- Add in stellar wind models\n",
    "- Add in protoplanetary disk models\n",
    "- Add different climate model wavelength grids (only WACCM, ROCKE-3D, UM, and custom grids so far)\n",
    "- These wavelength grids are not known to us (we could not find them)\n",
    "- Add in different ways to save the data (e.g. files such as .csv, .txt etc.) to be compatable with different models"
   ]
  },
  {
   "cell_type": "markdown",
   "id": "0d71d3f1",
   "metadata": {},
   "source": [
    "## Import required modules"
   ]
  },
  {
   "cell_type": "code",
   "execution_count": 1,
   "id": "6de53f17-c687-4592-92da-78c847d4c51a",
   "metadata": {},
   "outputs": [],
   "source": [
    "#imports\n",
    "import matplotlib.pyplot as plt\n",
    "import numpy as np\n",
    "import xarray as xr\n",
    "import pandas as pd\n",
    "from ipywidgets import interactive\n",
    "import matplotlib.gridspec as gridspec\n",
    "import ipywidgets as widgets\n",
    "import json\n",
    "import os\n",
    "from scipy.integrate import trapz\n",
    "from astropy.io import fits"
   ]
  },
  {
   "cell_type": "code",
   "execution_count": 2,
   "id": "3ad61c09-aa83-4159-a01b-8ab1d74bfb4b",
   "metadata": {},
   "outputs": [
    {
     "name": "stdout",
     "output_type": "stream",
     "text": [
      "No module named 'spectres'\n",
      "installing...\n",
      "done\n"
     ]
    }
   ],
   "source": [
    "#import spectres - will install on first use\n",
    "try:\n",
    "    import spectres as sp\n",
    "except ImportError as err:\n",
    "    print(err)\n",
    "    print('installing...')\n",
    "    os.system('pip install spectres')\n",
    "    print('done')\n",
    "    import spectres as sp"
   ]
  },
  {
   "cell_type": "code",
   "execution_count": 3,
   "id": "3c35fe51-7d5f-4133-b01c-2e4ecd0b4b35",
   "metadata": {},
   "outputs": [],
   "source": [
    "# SWIM functions\n",
    "from util import download_data, sub, sup\n",
    "from climate_models import model_spectrum"
   ]
  },
  {
   "cell_type": "markdown",
   "id": "886a4c59",
   "metadata": {},
   "source": [
    "## Program options begin here\n",
    "### Access the MUSCLES database"
   ]
  },
  {
   "cell_type": "code",
   "execution_count": null,
   "id": "cd8c558d",
   "metadata": {},
<<<<<<< HEAD
   "outputs": [
    {
     "data": {
      "application/vnd.jupyter.widget-view+json": {
       "model_id": "88ffbc3f05b84345a8e3180d3b676071",
       "version_major": 2,
       "version_minor": 0
      },
      "text/plain": [
       "Dropdown(description='Data type selection', options={'Constant native resolution': 'json/stellar_names_const_a…"
      ]
     },
     "metadata": {},
     "output_type": "display_data"
    }
   ],
=======
   "outputs": [],
>>>>>>> 305730c080cb9d639602191248faa56c0689d7c4
   "source": [
    "# MUSCLES data type selection\n",
    "\n",
    "# dictionary relating data type to json file\n",
    "# json files contain the web address in the archive of each star\n",
    "Data_Types = {'Constant native resolution': 'json/stellar_names_const_adapt.json',\n",
    "              'Variable native resolution': 'json/stellar_names_const_adapt.json',\n",
    "              'Constant adaptive resolution': 'json/stellar_names_var_adapt.json',\n",
    "              'Variable adaptive resolution': 'json/stellar_names_var_native.json'}\n",
    "\n",
    "# create a drop down menu to select data type from MUSCLES files\n",
    "style = {'description_width': 'initial'}\n",
    "data_type = widgets.Dropdown( options=(Data_Types),\n",
    "                             description='Data type selection',\n",
    "                             style=style,\n",
    "                             disabled=False)\n",
    "\n",
    "display(data_type)"
   ]
  },
  {
   "cell_type": "markdown",
   "id": "bcaefd62",
   "metadata": {},
   "source": [
    "### Select MUSCLES star"
   ]
  },
  {
   "cell_type": "code",
   "execution_count": null,
   "id": "433aaac7",
   "metadata": {},
<<<<<<< HEAD
   "outputs": [
    {
     "data": {
      "application/vnd.jupyter.widget-view+json": {
       "model_id": "ed03e96ffdd8412da7e77a55a3d33f07",
       "version_major": 2,
       "version_minor": 0
      },
      "text/plain": [
       "Dropdown(description='MUSCLES stellar object:', options={'GJ 1132': 'https://archive.stsci.edu/missions/hlsp/m…"
      ]
     },
     "metadata": {},
     "output_type": "display_data"
    }
   ],
=======
   "outputs": [],
>>>>>>> 305730c080cb9d639602191248faa56c0689d7c4
   "source": [
    "#reads in json file with MUSCLES archive list \n",
    "\n",
    "json_file = data_type.value\n",
    "stellar_names_and_data = json.load(open(json_file))\n",
    "\n",
    "# create a drop down menu to choose star in MUSCLES database\n",
    "MUSCLES_files = widgets.Dropdown(options=(stellar_names_and_data),\n",
    "                                 description='MUSCLES stellar object:',\n",
    "                                 style=style,\n",
    "                                 disabled=False)\n",
    "\n",
    "display(MUSCLES_files)"
   ]
  },
  {
   "cell_type": "markdown",
   "id": "edfffdc3",
   "metadata": {},
   "source": [
    "## Read in MUSCLES data and assign to arrays"
   ]
  },
  {
   "cell_type": "code",
<<<<<<< HEAD
   "execution_count": 4,
   "metadata": {},
   "outputs": [
    {
     "name": "stdout",
     "output_type": "stream",
     "text": [
      "\n",
      "Downloading data...\n",
      " hlsp_muscles_multi_multi_gj1132_broadband_v23_adapt-var-res-sed.fits\n",
      "wget https://archive.stsci.edu/missions/hlsp/muscles/gj1132/hlsp_muscles_multi_multi_gj1132_broadband_v23_adapt-var-res-sed.fits; mv hlsp_muscles_multi_multi_gj1132_broadband_v23_adapt-var-res-sed.fits ./fits\n",
      "./fits/hlsp_muscles_multi_multi_gj1132_broadband_v23_adapt-var-res-sed.fits\n"
     ]
    }
   ],
=======
   "execution_count": null,
   "id": "2edd9756",
   "metadata": {},
   "outputs": [],
>>>>>>> 305730c080cb9d639602191248faa56c0689d7c4
   "source": [
    "#get star name\n",
    "star_name = [k for k, v in stellar_names_and_data.items() if v == MUSCLES_files.value][0]\n",
    "\n",
    "# downloade the stars fits file\n",
    "fits_file = download_data(MUSCLES_files.value)\n",
    "\n",
    "# read the starts spectrum\n",
    "print(fits_file)\n",
    "spec = fits.getdata(fits_file,1)\n",
    "\n",
    "#convert to mW/m2/nm\n",
    "per_cm2_to_per_m2 = 100**2\n",
    "erg_per_s_to_mW = 1e-4\n",
    "per_Ang_to_per_nm = 10.\n",
    "\n",
    "New_flux = spec['FLUX'] * erg_per_s_to_mW * per_cm2_to_per_m2 * per_Ang_to_per_nm\n",
    "\n",
    "# MUSCLES wavelength converted to nm\n",
    "Wavelength = spec['WAVELENGTH']*0.1\n",
    "\n",
    "# read in or create the output model grid and spectrum\n",
    "Irradiance_at_Earth = 1360000 # mW/m2 "
   ]
  },
  {
   "cell_type": "markdown",
   "id": "c3fa1db1",
   "metadata": {},
   "source": [
    "## Select climate model for output"
   ]
  },
  {
   "cell_type": "code",
<<<<<<< HEAD
   "execution_count": 5,
   "metadata": {},
   "outputs": [
    {
     "data": {
      "application/vnd.jupyter.widget-view+json": {
       "model_id": "7938bb63421344fabed8deccd1b64816",
       "version_major": 2,
       "version_minor": 0
      },
      "text/plain": [
       "Label(value='Please select model')"
      ]
     },
     "metadata": {},
     "output_type": "display_data"
    },
    {
     "data": {
      "application/vnd.jupyter.widget-view+json": {
       "model_id": "00fae753b86b4b3aac7c9271a7f51edf",
       "version_major": 2,
       "version_minor": 0
      },
      "text/plain": [
       "Dropdown(description='Select climate model', options=('None selected', 'WACCM', 'CAM', 'ExoCam', 'UM', 'LMD-G'…"
      ]
     },
     "metadata": {},
     "output_type": "display_data"
    },
    {
     "name": "stdout",
     "output_type": "stream",
     "text": [
      "Target model: ROCKE-3D\n"
     ]
    }
   ],
=======
   "execution_count": null,
   "id": "ec66b7c0",
   "metadata": {},
   "outputs": [],
>>>>>>> 305730c080cb9d639602191248faa56c0689d7c4
   "source": [
    "# Other climate models can be included\n",
    "# Please email Greg Cooke at pygjc@leeds.ac.uk\n",
    "\n",
    "Climate_model_list = ['None selected',\n",
    "                      'WACCM', \n",
    "                      'CAM', \n",
    "                      'ExoCam', \n",
    "                      'UM', \n",
    "                      'LMD-G', \n",
    "                      'ROCKE-3D', \n",
    "                      'CCSM3', \n",
    "                      'Atmos', \n",
    "                      'Custom constant grid', \n",
    "                      'Custom variable grid'\n",
    "                     ]\n",
    "\n",
    "Climate_model_selection = widgets.Dropdown(options=Climate_model_list,\n",
    "                                           description='Select climate model',\n",
    "                                           disabled=False)\n",
    "caption = widgets.Label(value='Please select model')\n",
    "Climate_model_selection = widgets.Dropdown(options=Climate_model_list,\n",
    "                                           description='Select climate model',\n",
    "                                           disabled=False)\n",
    "def dropdown_change(change):\n",
    "    global model\n",
    "    model = Climate_model_selection.value\n",
    "    print('Target model:', model)\n",
    "    \n",
    "Climate_model_selection.observe(dropdown_change, names='value')\n",
    "model = display(caption, Climate_model_selection)"
   ]
  },
  {
   "cell_type": "code",
<<<<<<< HEAD
   "execution_count": 7,
   "metadata": {},
   "outputs": [
    {
     "name": "stdout",
     "output_type": "stream",
     "text": [
      "File already downloaded\n",
      "Total stellar irradiance from original file relative to the Sun: 6.970009474051589e-16\n",
      "Scaled total stellar irradiance relative to the Sun: 0.9999999999999993\n"
     ]
    }
   ],
=======
   "execution_count": null,
   "id": "0fd828c8",
   "metadata": {},
   "outputs": [],
>>>>>>> 305730c080cb9d639602191248faa56c0689d7c4
   "source": [
    "if(model == 'Custom constant grid'):\n",
    "    print('Please enter starting wavelength in nm')\n",
    "    a = float(input())\n",
    "    print('Please enter final wavelength in nm')\n",
    "    b = float(input())\n",
    "    print('Please enter wavelength binning in nm')\n",
    "    c = float(input())\n",
    "    model_wavelength = np.arange(a,b+c,c)\n",
    "    \n",
    "elif(model == 'Custom variable grid'):\n",
    "    print('NOTE: the current functionality is to read in a text ')\n",
    "    print('file of wavelength vs flux\\nusing np.genfromtxt(filename).')\n",
    "    print('Please enter the file name of the custom wavelength grid')\n",
    "    #get file name\n",
    "    file_name = input()\n",
    "    #get wavelength multiplier\n",
    "    print('Please enter the multiplier for the wavelength in order to convert to nm')\n",
    "    multiplier = float(input())\n",
    "\n",
    "    Input_file = np.genfromtxt(file_name)\n",
    "    model_wavelength = Input_file[:,0]*multiplier\n",
    "    model_flux = Input_file[:,1]\n",
    "\n",
    "else:\n",
    "    model_flux, model_wavelength, starlabel, flux_units, wav_units, flux_scaling, wav_scaling = model_spectrum(model)\n",
    "    \n",
    "# find total stellar irradiance from file\n",
    "# get total stellar irradiance at top of atmosphere\n",
    "\n",
    "TSI_spectra = trapz(New_flux, Wavelength)\n",
    "print('Total stellar irradiance from original file relative to the Sun: '+ str(TSI_spectra/Irradiance_at_Earth))\n",
    "\n",
    "# scale TSI\n",
    "Scaled_flux_to_Earth = New_flux/(TSI_spectra/Irradiance_at_Earth)\n",
    "TSI_spectra = trapz(Scaled_flux_to_Earth, Wavelength)\n",
    "print('Scaled total stellar irradiance relative to the Sun: '+ str(TSI_spectra/Irradiance_at_Earth))"
   ]
  },
  {
   "cell_type": "markdown",
   "id": "b4a4cdc6",
   "metadata": {
    "tags": []
   },
   "source": [
    "## Access the Exoplanet Archive and choose exoplanet"
   ]
  },
  {
   "cell_type": "code",
<<<<<<< HEAD
   "execution_count": 8,
   "metadata": {},
   "outputs": [
    {
     "data": {
      "application/vnd.jupyter.widget-view+json": {
       "model_id": "665999e29d7c4c11a874023c5eb4889a",
       "version_major": 2,
       "version_minor": 0
      },
      "text/plain": [
       "Dropdown(description='Find planets', options=('GJ 1132 b', 'GJ 1132 c'), value='GJ 1132 b')"
      ]
     },
     "metadata": {},
     "output_type": "display_data"
    }
   ],
=======
   "execution_count": null,
   "id": "66b5bd77",
   "metadata": {},
   "outputs": [],
>>>>>>> 305730c080cb9d639602191248faa56c0689d7c4
   "source": [
    "# read in only the following rows from the NASA exoplanet archive:\n",
    "# pl_name, hostname, st_lum, pl_orbsmax, st_teff, rowupdate\n",
    "\n",
    "url = 'https://exoplanetarchive.ipac.caltech.edu/TAP/sync'\n",
    "query = '?query=select+pl_name,hostname,st_lum,pl_orbsmax,st_teff,rowupdate+from+ps&format=csv'\n",
    "NASA_Exo_Archive = pd.read_csv(url+query)\n",
    "\n",
    "# set Spectra_name_same_as_host_name = False if looking at exoplanets around a different \n",
    "# star to the ones in the MUSCLES database, i.e., if you want spectra for an M8 star but \n",
    "# the closest spectra availiable is TRAPPIST-1 otherwise in this example you will only be\n",
    "# able to select TRAPPIST-1 planets if Spectra_name_same_as_host_name = True\n",
    "\n",
    "Spectra_name_same_as_host_name = True\n",
    "\n",
    "#Find planets based on host name\n",
    "if (Spectra_name_same_as_host_name):\n",
    "    #choose planet\n",
    "    planets = NASA_Exo_Archive.loc[NASA_Exo_Archive['hostname'] == star_name]['pl_name']\n",
    "    Find_planets = widgets.Dropdown(options=planets.drop_duplicates(),\n",
    "                                    description='Find planets',\n",
    "                                    disabled=False)\n",
    "    display(Find_planets)\n",
    "else:\n",
    "    Find_host = widgets.Dropdown(options=(NASA_Exo_Archive['hostname'].drop_duplicates()),\n",
    "                                 description='Find host',\n",
    "                                 disabled=False)\n",
    "    display(Find_host)\n",
    "    \n",
    "    #choose planet\n",
    "    planets = NASA_Exo_Archive.loc[NASA_Exo_Archive['hostname'] == Find_host.value]['pl_name']\n",
    "    Find_planets = widgets.Dropdown(options=planets,\n",
    "                                    description='Find planets',\n",
    "                                    disabled=False)\n",
    "    display(Find_planets)"
   ]
  },
  {
   "cell_type": "markdown",
   "id": "dee1b385",
   "metadata": {},
   "source": [
    "## Rebin spectra to target model and rescale to exoplanet irradiance"
   ]
  },
  {
   "cell_type": "code",
<<<<<<< HEAD
   "execution_count": 9,
   "metadata": {},
   "outputs": [
    {
     "name": "stdout",
     "output_type": "stream",
     "text": [
      "semi-major axis of GJ 1132 b = 0.0153 AU\n",
      "Star has 0.004375221051582521 times luminosity of Sun\n",
      "GJ 1132 b recieves 18.690337270205994 times flux recieved by Earth\n",
      "\n",
      "Total stellar irradiance from Sun spectra is: 1359943.04 W/m3\n",
      "Scaled total stellar irradiance relative to the Sun: 18.689554522006276\n"
     ]
    }
   ],
=======
   "execution_count": null,
   "id": "a8d0331e",
   "metadata": {},
   "outputs": [],
>>>>>>> 305730c080cb9d639602191248faa56c0689d7c4
   "source": [
    "# drop nan rows for luminosity and orbital period\n",
    "planet_name = Find_planets.value\n",
    "pl = NASA_Exo_Archive.\\\n",
    "    loc[NASA_Exo_Archive['pl_name'] == planet_name].\\\n",
    "    dropna(subset=['st_lum','pl_orbsmax'])\n",
    "\n",
    "#rebin and perform final rescaling\n",
    "from Rebin_rescale_spectra import rebin_rescale\n",
    "Final_scaled_flux, flux_relative_to_Earth = rebin_rescale(Wavelength = Wavelength,\n",
    "                                                          model_wavelength = model_wavelength, \n",
    "                                                          model = model, \n",
    "                                                          Scaled_flux_to_Earth = Scaled_flux_to_Earth,\n",
    "                                                          starlabel = starlabel, pl = pl,\n",
    "                                                          planet_name = planet_name,\n",
    "                                                          flux_units = flux_units)"
   ]
  },
  {
   "cell_type": "markdown",
   "id": "46592b00",
   "metadata": {},
   "source": [
    "## Plot scaled stellar spectra"
   ]
  },
  {
   "cell_type": "code",
<<<<<<< HEAD
   "execution_count": 14,
   "metadata": {},
   "outputs": [
    {
     "data": {
      "image/png": "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\n",
      "text/plain": [
       "<Figure size 864x360 with 1 Axes>"
      ]
     },
     "metadata": {
      "needs_background": "light"
     },
     "output_type": "display_data"
    }
   ],
=======
   "execution_count": null,
   "id": "ac6550a0",
   "metadata": {},
   "outputs": [],
>>>>>>> 305730c080cb9d639602191248faa56c0689d7c4
   "source": [
    "label = 'Scaled MUSCLES spectra of\\n'+star_name+ ' at ' +\\\n",
    "         Find_planets.value+'\\n(' +\\\n",
    "         str(round(flux_relative_to_Earth,3)) + ' ' + r'$F_\\oplus$'+')'\n",
    "\n",
    "from Plot_spectrum import plot_spectrum\n",
    "\n",
    "xlim = (10/wav_scaling,1e5/wav_scaling)\n",
    "plot_spectrum(wav1 = model_wavelength/wav_scaling, flux1 = Final_scaled_flux/flux_scaling, \n",
    "              wav2 = model_wavelength/wav_scaling, flux2 = model_flux/flux_scaling, \n",
    "              number = 2, flux_units = flux_units,\n",
    "              label1 = label, label2 = starlabel+' scaled to Earth', xlim = xlim, wav_units = wav_units)"
   ]
  },
  {
   "cell_type": "markdown",
   "id": "6f003810",
   "metadata": {},
   "source": [
    "## Save spectrum to file"
   ]
  },
  {
   "cell_type": "code",
<<<<<<< HEAD
   "execution_count": 12,
=======
   "execution_count": null,
   "id": "0fc1a00f",
>>>>>>> 305730c080cb9d639602191248faa56c0689d7c4
   "metadata": {},
   "outputs": [],
   "source": [
    "Output_flux = Final_scaled_flux/Final_scaled_flux\n",
    "Output_wavelength = model_wavelength/wav_scaling\n",
    "\n",
    "#now write out the files to the working directory\n",
    "if (model == 'WACCM' or model == 'CAM'):\n",
    "    ds = xr.open_dataset('SolarForcingCMIP6piControl_c160921.nc')\n",
    "    ds.ssi.values[0] = Output_flux; ds.ssi.values[1] = Output_flux\n",
    "    NewFile = 'TOA_Flux_at_'+Find_planets.value+'_for_'+Climate_model_selection.value+'.nc'\n",
    "    NewFile = NewFile.replace(\" \", \"_\")\n",
    "    ds.to_netcdf('./output/'+NewFile)\n",
    "    print('File saved')\n",
    "elif (model == 'ROCKE-3D' or model == 'UM'):\n",
    "    # does ROCKE-3D need to be scaled back to W/m2/m and grid on m?\n",
    "    NewFile = 'TOA_Flux_at_'+Find_planets.value+'_for_'+Climate_model_selection.value\n",
    "    NewFile = NewFile.replace(\" \", \"_\")\n",
    "    df = pd.DataFrame(data={'Wavelength [m]': Output_wavelength, 'Flux [W/m^3]':  Output_flux})\n",
    "    df.to_csv('./output/'+NewFile+'.txt', index = False)\n",
    "    print('File saved')\n",
    "elif (model == 'Atmos'):\n",
    "    NewFile = 'TOA_Flux_at_'+Find_planets.value+'_for_'+Climate_model_selection.value\n",
    "    NewFile = NewFile.replace(\" \", \"_\")\n",
    "    df = pd.DataFrame(data={'Wavelength [m]': Output_wavelength, 'Flux [W/m^3]':  Output_flux})\n",
    "    df.to_csv('./output/'+NewFile+'.txt', index = False)\n",
    "    print('File saved')\n",
    "else:\n",
    "    print('File not saved')"
   ]
  },
  {
   "cell_type": "markdown",
   "id": "5c896990",
   "metadata": {},
   "source": [
    "## Clean up directory"
   ]
  },
  {
   "cell_type": "code",
<<<<<<< HEAD
   "execution_count": 13,
   "metadata": {
    "tags": []
   },
   "outputs": [
    {
     "data": {
      "text/plain": [
       "0"
      ]
     },
     "execution_count": 13,
     "metadata": {},
     "output_type": "execute_result"
    }
   ],
=======
   "execution_count": null,
   "id": "89cc45c5",
   "metadata": {
    "tags": []
   },
   "outputs": [],
>>>>>>> 305730c080cb9d639602191248faa56c0689d7c4
   "source": [
    "# clean up\n",
    "# remove MUSCLES files in current directory\n",
    "os.system('rm fits/*muscles*.fits')"
   ]
  },
  {
   "cell_type": "code",
   "execution_count": null,
   "id": "487c8b12",
   "metadata": {},
   "outputs": [],
   "source": []
  }
 ],
 "metadata": {
  "kernelspec": {
   "display_name": "Python [conda env:miniconda3-default]",
   "language": "python",
   "name": "conda-env-miniconda3-default-py"
  },
  "language_info": {
   "codemirror_mode": {
    "name": "ipython",
    "version": 3
   },
   "file_extension": ".py",
   "mimetype": "text/x-python",
   "name": "python",
   "nbconvert_exporter": "python",
   "pygments_lexer": "ipython3",
   "version": "3.9.5"
  }
 },
 "nbformat": 4,
 "nbformat_minor": 5
}
